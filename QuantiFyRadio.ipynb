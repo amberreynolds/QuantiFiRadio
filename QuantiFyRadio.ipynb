{
  "nbformat": 4,
  "nbformat_minor": 0,
  "metadata": {
    "colab": {
      "name": "QuantiFyRadio.ipynb",
      "provenance": [],
      "collapsed_sections": [],
      "authorship_tag": "ABX9TyPrUxGLw6Mx62JefgeWBE8S",
      "include_colab_link": true
    },
    "kernelspec": {
      "name": "python3",
      "display_name": "Python 3"
    }
  },
  "cells": [
    {
      "cell_type": "markdown",
      "metadata": {
        "id": "view-in-github",
        "colab_type": "text"
      },
      "source": [
        "<a href=\"https://colab.research.google.com/github/amberreynolds/QuantiFiRadio/blob/master/QuantiFyRadio.ipynb\" target=\"_parent\"><img src=\"https://colab.research.google.com/assets/colab-badge.svg\" alt=\"Open In Colab\"/></a>"
      ]
    },
    {
      "cell_type": "code",
      "metadata": {
        "id": "fhZqUlInuwRQ",
        "colab_type": "code",
        "colab": {
          "base_uri": "https://localhost:8080/",
          "height": 247
        },
        "outputId": "15daecea-2237-49a1-b696-035a12f3c048"
      },
      "source": [
        "!apt-get update"
      ],
      "execution_count": null,
      "outputs": [
        {
          "output_type": "stream",
          "text": [
            "\r0% [Working]\r            \rHit:1 https://cloud.r-project.org/bin/linux/ubuntu bionic-cran35/ InRelease\n",
            "\r0% [Connecting to archive.ubuntu.com] [Connecting to security.ubuntu.com (91.18\r0% [1 InRelease gpgv 3,626 B] [Connecting to archive.ubuntu.com] [Connecting to\r                                                                               \rIgn:2 https://developer.download.nvidia.com/compute/cuda/repos/ubuntu1804/x86_64  InRelease\n",
            "\r0% [1 InRelease gpgv 3,626 B] [Connecting to archive.ubuntu.com] [Waiting for h\r0% [Connecting to archive.ubuntu.com] [Waiting for headers] [Waiting for header\r                                                                               \rIgn:3 https://developer.download.nvidia.com/compute/machine-learning/repos/ubuntu1804/x86_64  InRelease\n",
            "\r0% [Connecting to archive.ubuntu.com (91.189.88.152)] [Waiting for headers] [Wa\r                                                                               \rHit:4 https://developer.download.nvidia.com/compute/cuda/repos/ubuntu1804/x86_64  Release\n",
            "\r0% [Connecting to archive.ubuntu.com (91.189.88.152)] [Waiting for headers] [Wa\r0% [Release.gpg gpgv 697 B] [Connecting to archive.ubuntu.com (91.189.88.152)] \r                                                                               \rHit:5 https://developer.download.nvidia.com/compute/machine-learning/repos/ubuntu1804/x86_64  Release\n",
            "\r0% [Release.gpg gpgv 697 B] [Connecting to archive.ubuntu.com (91.189.88.152)] \r                                                                               \rGet:6 http://security.ubuntu.com/ubuntu bionic-security InRelease [88.7 kB]\n",
            "Hit:7 http://ppa.launchpad.net/graphics-drivers/ppa/ubuntu bionic InRelease\n",
            "Hit:9 http://archive.ubuntu.com/ubuntu bionic InRelease\n",
            "Hit:11 http://ppa.launchpad.net/marutter/c2d4u3.5/ubuntu bionic InRelease\n",
            "Get:12 http://archive.ubuntu.com/ubuntu bionic-updates InRelease [88.7 kB]\n",
            "Get:13 http://archive.ubuntu.com/ubuntu bionic-backports InRelease [74.6 kB]\n",
            "Fetched 252 kB in 2s (122 kB/s)\n",
            "Reading package lists... Done\n"
          ],
          "name": "stdout"
        }
      ]
    },
    {
      "cell_type": "code",
      "metadata": {
        "id": "7N1ROdnDtumy",
        "colab_type": "code",
        "colab": {}
      },
      "source": [
        "# Install Java, Spark, and Findspark\n",
        "!apt-get install openjdk-8-jdk-headless -qq > /dev/null\n",
        "!wget -q http://www-us.apache.org/dist/spark/spark-2.4.6/spark-2.4.6-bin-hadoop2.7.tgz\n",
        "!tar xf spark-2.4.6-bin-hadoop2.7.tgz\n",
        "!pip install -q findspark"
      ],
      "execution_count": null,
      "outputs": []
    },
    {
      "cell_type": "code",
      "metadata": {
        "id": "uyINsGnzvEyS",
        "colab_type": "code",
        "colab": {
          "base_uri": "https://localhost:8080/",
          "height": 212
        },
        "outputId": "2fa9909f-7a00-4546-bd70-9ff90433a4cb"
      },
      "source": [
        "# Set Environment Variables\n",
        "import os\n",
        "os.environ[\"JAVA_HOME\"] = \"/usr/lib/jvm/java-8-openjdk-amd64\"\n",
        "os.environ[\"SPARK_HOME\"] = \"/content/spark-2.4.6-bin-hadoop2.7\"\n",
        "\n",
        "# Start a SparkSession\n",
        "import findspark\n",
        "findspark.init()\n",
        "\n",
        "!wget https://jdbc.postgresql.org/download/postgresql-42.2.9.jar"
      ],
      "execution_count": null,
      "outputs": [
        {
          "output_type": "stream",
          "text": [
            "--2020-08-14 01:14:21--  https://jdbc.postgresql.org/download/postgresql-42.2.9.jar\n",
            "Resolving jdbc.postgresql.org (jdbc.postgresql.org)... 72.32.157.228, 2001:4800:3e1:1::228\n",
            "Connecting to jdbc.postgresql.org (jdbc.postgresql.org)|72.32.157.228|:443... connected.\n",
            "HTTP request sent, awaiting response... 200 OK\n",
            "Length: 914037 (893K) [application/java-archive]\n",
            "Saving to: ‘postgresql-42.2.9.jar.1’\n",
            "\n",
            "postgresql-42.2.9.j 100%[===================>] 892.61K  1.05MB/s    in 0.8s    \n",
            "\n",
            "2020-08-14 01:14:22 (1.05 MB/s) - ‘postgresql-42.2.9.jar.1’ saved [914037/914037]\n",
            "\n"
          ],
          "name": "stdout"
        }
      ]
    },
    {
      "cell_type": "code",
      "metadata": {
        "id": "C6Biw2-_zcEt",
        "colab_type": "code",
        "colab": {}
      },
      "source": [
        "from pyspark.sql import SparkSession\n",
        "spark = SparkSession.builder.appName(\"dj-ai-database\").config(\"spark.driver.extraClassPath\",\"/content/postgresql-42.2.9.jar\").getOrCreate()"
      ],
      "execution_count": null,
      "outputs": []
    },
    {
      "cell_type": "code",
      "metadata": {
        "id": "qRfM2gsdvwhw",
        "colab_type": "code",
        "colab": {
          "base_uri": "https://localhost:8080/",
          "height": 301
        },
        "outputId": "0ab9cc3d-012d-4dea-c13c-eb2cabc26645"
      },
      "source": [
        "from pyspark import SparkFiles\n",
        "# Load in employee.csv from S3 into a DataFrame\n",
        "url1 = \"https://quantifi-radio.s3.us-east-2.amazonaws.com/Hot+Stuff+-+cleaned.csv\"\n",
        "spark.sparkContext.addFile(url1)\n",
        "\n",
        "hotstuffdf = spark.read.option('header', 'true').csv(SparkFiles.get(\"Hot+Stuff+-+cleaned.csv\"), inferSchema=True, sep=',', timestampFormat=\"mm/dd/yy\")\n",
        "hotstuffdf.show(10)"
      ],
      "execution_count": null,
      "outputs": [
        {
          "output_type": "stream",
          "text": [
            "+--------------------+--------------------+--------------------+----+---------------------+\n",
            "|              SongID|                Song|           Performer|Year|Occurences on Hot 100|\n",
            "+--------------------+--------------------+--------------------+----+---------------------+\n",
            "|\"\"\"B\"\" GirlsYoung...|       \"\"\"B\"\" Girls\"|  Young And Restless|1990|                   15|\n",
            "|\"\"\"Cherry Cherry\"...|\"\"\"Cherry Cherry\"...|        Neil Diamond|1973|                   10|\n",
            "|\"\"\"Having A Party...|\"\"\"Having A Party...|The Ovations (Fea...|1973|                    9|\n",
            "|\"\"\"Joy\"\" Pt. IIsa...|     \"\"\"Joy\"\" Pt. I\"|         Isaac Hayes|1973|                    9|\n",
            "|\"\"\"Roots\"\" Medley...|  \"\"\"Roots\"\" Medley\"|        Quincy Jones|1977|                    7|\n",
            "|\"\"\"Yep!\"\"Duane Ed...|          \"\"\"Yep!\"\"\"|Duane Eddy His Tw...|1959|                    9|\n",
            "|#1 Dee JayGoody G...|          #1 Dee Jay|         Goody Goody|1978|                    5|\n",
            "|             #1Nelly|                  #1|               Nelly|2001|                   20|\n",
            "| #9 DreamJohn Lennon|            #9 Dream|         John Lennon|1974|                   12|\n",
            "|#BeautifulMariah ...|          #Beautiful|Mariah Carey Feat...|2013|                   16|\n",
            "+--------------------+--------------------+--------------------+----+---------------------+\n",
            "only showing top 10 rows\n",
            "\n"
          ],
          "name": "stdout"
        }
      ]
    },
    {
      "cell_type": "code",
      "metadata": {
        "id": "9BNMhCXljaRy",
        "colab_type": "code",
        "colab": {
          "base_uri": "https://localhost:8080/",
          "height": 212
        },
        "outputId": "9129049c-9de9-4425-e842-8df044a3463a"
      },
      "source": [
        "# Rename columns with spaces\n",
        "hotstuffdf = hotstuffdf.withColumnRenamed(\"Occurences on Hot 100\", \"occurences_on_hot_100\")\n",
        "hotstuffdf.show(5)"
      ],
      "execution_count": null,
      "outputs": [
        {
          "output_type": "stream",
          "text": [
            "+--------------------+--------------------+--------------------+----+---------------------+\n",
            "|              SongID|                Song|           Performer|Year|occurences_on_hot_100|\n",
            "+--------------------+--------------------+--------------------+----+---------------------+\n",
            "|\"\"\"B\"\" GirlsYoung...|       \"\"\"B\"\" Girls\"|  Young And Restless|1990|                   15|\n",
            "|\"\"\"Cherry Cherry\"...|\"\"\"Cherry Cherry\"...|        Neil Diamond|1973|                   10|\n",
            "|\"\"\"Having A Party...|\"\"\"Having A Party...|The Ovations (Fea...|1973|                    9|\n",
            "|\"\"\"Joy\"\" Pt. IIsa...|     \"\"\"Joy\"\" Pt. I\"|         Isaac Hayes|1973|                    9|\n",
            "|\"\"\"Roots\"\" Medley...|  \"\"\"Roots\"\" Medley\"|        Quincy Jones|1977|                    7|\n",
            "+--------------------+--------------------+--------------------+----+---------------------+\n",
            "only showing top 5 rows\n",
            "\n"
          ],
          "name": "stdout"
        }
      ]
    },
    {
      "cell_type": "code",
      "metadata": {
        "id": "5dcUcSm80Vya",
        "colab_type": "code",
        "colab": {
          "base_uri": "https://localhost:8080/",
          "height": 321
        },
        "outputId": "fe76d458-070e-4817-8274-90bf77a9228a"
      },
      "source": [
        "from pyspark import SparkFiles\n",
        "url2 = \"https://quantifi-radio.s3.us-east-2.amazonaws.com/Hot+100+Audio+Features+-+cleaned.csv\"\n",
        "spark.sparkContext.addFile(url2)\n",
        "\n",
        "audiodf = spark.read.option('header', 'true').csv(SparkFiles.get(\"Hot+100+Audio+Features+-+cleaned.csv\"), inferSchema=True, sep=',')\n",
        "audiodf.show(10)"
      ],
      "execution_count": null,
      "outputs": [
        {
          "output_type": "stream",
          "text": [
            "+--------------------+--------------------+--------------------+--------------------+--------------------+-------------------------+--------------------+----------------------+-------------------------+------------------------+------------+------+----+--------+----+-----------+------------+----------------+--------+-------+-------+--------------+\n",
            "|              SongID|           Performer|                Song|       spotify_genre|    spotify_track_id|spotify_track_preview_url| spotify_track_album|spotify_track_explicit|spotify_track_duration_ms|spotify_track_popularity|danceability|energy| key|loudness|mode|speechiness|acousticness|instrumentalness|liveness|valence|  tempo|time_signature|\n",
            "+--------------------+--------------------+--------------------+--------------------+--------------------+-------------------------+--------------------+----------------------+-------------------------+------------------------+------------+------+----+--------+----+-----------+------------+----------------+--------+-------+-------+--------------+\n",
            "|AdictoTainy, Anue...|Tainy, Anuel AA &...|              Adicto|   ['pop reggaeton']|3jbT1Y5MoPwEIpZnd...|                     null|Adicto (with Anue...|                 FALSE|                   270740|                      91|       0.734| 0.836|10.0|  -4.803| 0.0|     0.0735|       0.017|         1.64E-5|   0.179|  0.623| 80.002|           4.0|\n",
            "|ShallowLady Gaga ...|Lady Gaga & Bradl...|             Shallow|['dance pop', 'pop']|2VxeLyX666F8uXCJ0...|                     null|A Star Is Born So...|                 FALSE|                   215733|                      88|       0.572| 0.385| 7.0|  -6.362| 1.0|     0.0308|       0.371|             0.0|   0.231|  0.323| 95.799|           4.0|\n",
            "|EnemiesPost Malon...|Post Malone Featu...|             Enemies|['dfw rap', 'melo...|0Xek5rqai2jcOWCYW...|                     null|Hollywood's Bleeding|                  TRUE|                   196760|                      86|       0.542| 0.674| 6.0|  -4.169| 1.0|       0.21|      0.0588|             0.0|  0.0955|  0.667| 76.388|           4.0|\n",
            "|Bacc At It AgainY...|Yella Beezy, Gucc...|    Bacc At It Again|['dfw rap', 'rap'...|2biNa12dMbHJrHVFR...|     https://p.scdn.co...|    Bacc At It Again|                  TRUE|                   228185|                      61|       0.948| 0.623| 8.0|  -5.725| 0.0|      0.168|     0.00124|         1.07E-6|  0.0716|  0.856|135.979|           4.0|\n",
            "|The ArcherTaylor ...|        Taylor Swift|          The Archer|['dance pop', 'po...|3pHkh7d0lzM2AldUt...|                     null|               Lover|                 FALSE|                   211240|                      76|       0.292| 0.574| 0.0|  -9.375| 1.0|     0.0401|        0.12|         0.00569|  0.0663|  0.166|124.344|           4.0|\n",
            "|         VIBEZDaBaby|              DaBaby|               VIBEZ|['nc hip hop', 'r...|0fySG6A6qLE8IvDpa...|                     null|                KIRK|                  TRUE|                   144935|                      88|       0.768| 0.652| 1.0|  -2.708| 0.0|      0.307|       0.113|             0.0|   0.107|  0.777|154.187|           4.0|\n",
            "|    When I Grow UpNF|                  NF|      When I Grow Up|['hip hop', 'pop ...|0hWzB4dR1zwcokPvc...|                     null|      When I Grow Up|                 FALSE|                   196800|                      74|       0.817| 0.814| 2.0|  -3.985| 1.0|      0.185|        0.32|             0.0|   0.152|  0.247|109.994|           4.0|\n",
            "|Hollywood's Bleed...|         Post Malone|Hollywood's Bleeding|['dfw rap', 'melo...|7sWRlDoTDX8geTR8z...|                     null|Hollywood's Bleeding|                 FALSE|                   156266|                      85|       0.405| 0.646| 4.0|  -3.206| 0.0|     0.0476|       0.331|             0.0|   0.103|   0.17|130.218|           4.0|\n",
            "|What Happens In A...|Brantley Gilbert ...|What Happens In A...|                null|44UTzjhEM825Sw0qC...|                     null|    Fire & Brimstone|                 FALSE|                   203560|                      57|       0.498| 0.788|11.0|  -5.361| 1.0|     0.0402|     9.34E-4|             0.0|    0.13|  0.457|138.171|           4.0|\n",
            "|Famous HoesNLE Ch...|          NLE Choppa|         Famous Hoes| ['memphis hip hop']|35Xf2ABjPzUXKz19a...|     https://p.scdn.co...|         Famous Hoes|                  TRUE|                   135460|                      80|       0.732| 0.627| 4.0|  -5.693| 0.0|      0.161|       0.346|             0.0|   0.261|  0.332| 81.481|           4.0|\n",
            "+--------------------+--------------------+--------------------+--------------------+--------------------+-------------------------+--------------------+----------------------+-------------------------+------------------------+------------+------+----+--------+----+-----------+------------+----------------+--------+-------+-------+--------------+\n",
            "only showing top 10 rows\n",
            "\n"
          ],
          "name": "stdout"
        }
      ]
    },
    {
      "cell_type": "markdown",
      "metadata": {
        "id": "hdyvSsWebgjR",
        "colab_type": "text"
      },
      "source": [
        ""
      ]
    },
    {
      "cell_type": "code",
      "metadata": {
        "id": "L95biPMhbgzd",
        "colab_type": "code",
        "colab": {
          "base_uri": "https://localhost:8080/",
          "height": 443
        },
        "outputId": "8d5b3b29-5f13-4457-cc17-d45e67ff4493"
      },
      "source": [
        "# audiodf.printSchema()"
      ],
      "execution_count": null,
      "outputs": [
        {
          "output_type": "stream",
          "text": [
            "root\n",
            " |-- SongID: string (nullable = true)\n",
            " |-- Performer: string (nullable = true)\n",
            " |-- Song: string (nullable = true)\n",
            " |-- spotify_genre: string (nullable = true)\n",
            " |-- spotify_track_id: string (nullable = true)\n",
            " |-- spotify_track_preview_url: string (nullable = true)\n",
            " |-- spotify_track_album: string (nullable = true)\n",
            " |-- spotify_track_explicit: string (nullable = true)\n",
            " |-- spotify_track_duration_ms: string (nullable = true)\n",
            " |-- spotify_track_popularity: string (nullable = true)\n",
            " |-- danceability: double (nullable = true)\n",
            " |-- energy: double (nullable = true)\n",
            " |-- key: double (nullable = true)\n",
            " |-- loudness: double (nullable = true)\n",
            " |-- mode: double (nullable = true)\n",
            " |-- speechiness: double (nullable = true)\n",
            " |-- acousticness: double (nullable = true)\n",
            " |-- instrumentalness: double (nullable = true)\n",
            " |-- liveness: double (nullable = true)\n",
            " |-- valence: double (nullable = true)\n",
            " |-- tempo: double (nullable = true)\n",
            " |-- time_signature: double (nullable = true)\n",
            "\n"
          ],
          "name": "stdout"
        }
      ]
    },
    {
      "cell_type": "code",
      "metadata": {
        "id": "1th4WdkaKuHK",
        "colab_type": "code",
        "colab": {}
      },
      "source": [
        "from pyspark.sql.functions import col\n",
        "hotstuffdf = hotstuffdf.withColumn('Year', col('Year').cast('float'))\n",
        "\n",
        "hotstuffdf = hotstuffdf.withColumn('occurences_on_hot_100', col('occurences_on_hot_100').cast('float'))"
      ],
      "execution_count": null,
      "outputs": []
    },
    {
      "cell_type": "code",
      "metadata": {
        "id": "7pbHAnuT75u8",
        "colab_type": "code",
        "colab": {}
      },
      "source": [
        "# Configuration for RDS instance\n",
        "mode=\"append\"\n",
        "jdbc_url = \"jdbc:postgresql://database-dj-ai.c0b2m66eukcx.us-east-2.rds.amazonaws.com:5432/database_dj_ai\"\n",
        "config = {\"user\":\"root\",\n",
        "          \"password\": \"freeze123\",\n",
        "          \"driver\":\"org.postgresql.Driver\"}"
      ],
      "execution_count": null,
      "outputs": []
    },
    {
      "cell_type": "code",
      "metadata": {
        "id": "hmvyoo1v-uJe",
        "colab_type": "code",
        "colab": {}
      },
      "source": [
        "# Write DataFrame to table\n",
        "\n",
        "hotstuffdf.write.jdbc(url=jdbc_url, table='hotstuff', mode=mode, properties=config)"
      ],
      "execution_count": null,
      "outputs": []
    },
    {
      "cell_type": "code",
      "metadata": {
        "id": "-w4wsoGyrVY7",
        "colab_type": "code",
        "colab": {}
      },
      "source": [
        "audiodf.write.jdbc(url=jdbc_url, table='audio_features', mode=mode, properties=config)"
      ],
      "execution_count": null,
      "outputs": []
    }
  ]
}